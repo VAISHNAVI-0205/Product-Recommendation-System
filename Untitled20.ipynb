{
 "cells": [
  {
   "cell_type": "code",
   "execution_count": 1,
   "id": "bd96840b-97e8-4fb4-889d-4f466831dc8d",
   "metadata": {},
   "outputs": [
    {
     "name": "stdout",
     "output_type": "stream",
     "text": [
      "['OnePlus 12', 'Gaming Laptop', 'Smart TV', 'DSLR Camera', 'Microwave Oven']\n",
      "['OnePlus 12', 'iPhone 15', 'Sunglasses', 'Rolex Watch', 'Samsung Galaxy']\n"
     ]
    }
   ],
   "source": [
    "import pandas as pd\n",
    "from sklearn.feature_extraction.text import TfidfVectorizer\n",
    "from sklearn.metrics.pairwise import cosine_similarity\n",
    "\n",
    "products = {\n",
    "    'ProductID': list(range(1, 31)),\n",
    "    'ProductName': [\n",
    "        'iPhone 15', 'Samsung Galaxy', 'OnePlus 12', 'Rolex Watch', 'Casio Digital Watch', \n",
    "        'Leather Bag', 'Backpack', 'Silk Saree', 'Cotton Saree', 'Laptop', \n",
    "        'Gaming Laptop', 'Headphones', 'Wireless Earbuds', 'Smartwatch', 'DSLR Camera',\n",
    "        'Mirrorless Camera', 'Bluetooth Speaker', 'Tablet', 'Smart TV', 'Microwave Oven',\n",
    "        'Air Fryer', 'Vacuum Cleaner', 'Fitness Band', 'Power Bank', 'Charger', \n",
    "        'LED Lamp', 'Desk Organizer', 'Water Bottle', 'Sunglasses', 'Wallet'\n",
    "    ],\n",
    "    'Category': [\n",
    "        'Smartphone','Smartphone','Smartphone','Watch','Watch',\n",
    "        'Bag','Bag','Saree','Saree','Electronics',\n",
    "        'Electronics','Electronics','Electronics','Watch','Camera',\n",
    "        'Camera','Electronics','Electronics','Electronics','Home Appliance',\n",
    "        'Home Appliance','Home Appliance','Electronics','Electronics','Electronics',\n",
    "        'Home Decor','Home Decor','Accessories','Accessories','Accessories'\n",
    "    ],\n",
    "    'Description': [\n",
    "        'Latest Apple smartphone with advanced camera',\n",
    "        'High-end Android smartphone with AMOLED display',\n",
    "        'Affordable Android smartphone with fast performance',\n",
    "        'Luxury Swiss-made wrist watch',\n",
    "        'Classic digital watch for daily use',\n",
    "        'Stylish leather bag for daily use',\n",
    "        'Durable backpack for travel and school',\n",
    "        'Traditional silk saree with embroidery',\n",
    "        'Comfortable cotton saree for daily wear',\n",
    "        'High performance laptop for work and gaming',\n",
    "        'Powerful gaming laptop with RGB keyboard',\n",
    "        'Wireless headphones with noise cancellation',\n",
    "        'Compact wireless earbuds with long battery',\n",
    "        'Smartwatch with fitness tracking features',\n",
    "        'Professional DSLR camera with lens kit',\n",
    "        'Mirrorless camera with interchangeable lenses',\n",
    "        'Portable Bluetooth speaker with deep bass',\n",
    "        'Tablet with high-resolution display',\n",
    "        'Smart TV with 4K resolution',\n",
    "        'Microwave oven with multiple modes',\n",
    "        'Air fryer for healthy cooking',\n",
    "        'Vacuum cleaner with powerful suction',\n",
    "        'Fitness band with heart rate monitoring',\n",
    "        'High-capacity power bank for smartphones',\n",
    "        'Fast charging wall charger',\n",
    "        'LED lamp for study and work',\n",
    "        'Desk organizer with multiple compartments',\n",
    "        'Insulated water bottle for travel',\n",
    "        'Stylish sunglasses for outdoor use',\n",
    "        'Leather wallet with multiple card slots'\n",
    "    ]\n",
    "}\n",
    "\n",
    "user_ratings = {\n",
    "    'User': ['A','A','A','B','B','B','C','C','C','D','D','D','E','E','E','F','F','F','G','G','G','H','H','H','I','I','I','J','J','J'],\n",
    "    'Product': [\n",
    "        'iPhone 15','Laptop','Headphones','Samsung Galaxy','Gaming Laptop','Wireless Earbuds',\n",
    "        'OnePlus 12','Backpack','Leather Bag','DSLR Camera','Tablet','Smartwatch',\n",
    "        'Silk Saree','Cotton Saree','LED Lamp','Mirrorless Camera','Smart TV','Air Fryer',\n",
    "        'Casio Digital Watch','Power Bank','Charger','Fitness Band','Vacuum Cleaner','Desk Organizer',\n",
    "        'Bluetooth Speaker','Microwave Oven','Water Bottle','Rolex Watch','Sunglasses','Wallet'\n",
    "    ],\n",
    "    'Rating': [\n",
    "        5,4,4,5,5,4,4,5,5,5,4,4,5,4,3,5,5,4,4,5,4,5,4,3,5,4,4,5,5,4\n",
    "    ]\n",
    "}\n",
    "\n",
    "df_products = pd.DataFrame(products)\n",
    "df_ratings = pd.DataFrame(user_ratings)\n",
    "\n",
    "user_item_matrix = df_ratings.pivot_table(index='User', columns='Product', values='Rating').fillna(0)\n",
    "user_similarity = cosine_similarity(user_item_matrix)\n",
    "user_similarity_df = pd.DataFrame(user_similarity, index=user_item_matrix.index, columns=user_item_matrix.index)\n",
    "\n",
    "df_products['Text'] = df_products['ProductName'] + ' ' + df_products['Category'] + ' ' + df_products['Description']\n",
    "tfidf = TfidfVectorizer(stop_words='english')\n",
    "tfidf_matrix = tfidf.fit_transform(df_products['Text'])\n",
    "\n",
    "def recommend_products(user=None, query=None, top_n=5):\n",
    "    recommendations = set()\n",
    "    if user:\n",
    "        similar_users = user_similarity_df[user].sort_values(ascending=False).index[1:]\n",
    "        for sim_user in similar_users:\n",
    "            user_products = df_ratings[df_ratings['User'] == sim_user]['Product'].values\n",
    "            recommendations.update(user_products)\n",
    "        user_products = df_ratings[df_ratings['User'] == user]['Product'].values\n",
    "        recommendations = recommendations - set(user_products)\n",
    "    if query:\n",
    "        query_vec = tfidf.transform([query])\n",
    "        cosine_sim = cosine_similarity(query_vec, tfidf_matrix).flatten()\n",
    "        top_indices = cosine_sim.argsort()[-top_n:][::-1]\n",
    "        content_recs = df_products.iloc[top_indices]['ProductName'].values\n",
    "        recommendations.update(content_recs)\n",
    "    return list(recommendations)[:top_n]\n",
    "\n",
    "print(recommend_products(user='A', top_n=5))\n",
    "print(recommend_products(query='Smartphone', top_n=5))\n"
   ]
  },
  {
   "cell_type": "code",
   "execution_count": 2,
   "id": "9c0ebc47-923c-46d4-a882-7b4003c2250e",
   "metadata": {},
   "outputs": [
    {
     "name": "stdout",
     "output_type": "stream",
     "text": [
      "['Gaming Laptop', 'Charger', 'Laptop', 'Tablet', 'Headphones']\n"
     ]
    }
   ],
   "source": [
    "print(recommend_products(query='Electronics', top_n=5))"
   ]
  },
  {
   "cell_type": "code",
   "execution_count": 3,
   "id": "c5385d2e-33c3-4d67-8ddb-624235e708a4",
   "metadata": {},
   "outputs": [
    {
     "name": "stdout",
     "output_type": "stream",
     "text": [
      "['Smartwatch', 'Wallet', 'Sunglasses', 'Water Bottle', 'Samsung Galaxy']\n"
     ]
    }
   ],
   "source": [
    "print(recommend_products(query='Accessories', top_n=5))"
   ]
  },
  {
   "cell_type": "code",
   "execution_count": null,
   "id": "2aad23df-8e85-4640-b11f-df0bf11ef7b7",
   "metadata": {},
   "outputs": [],
   "source": [
    "print(recommend_products(query='', top_n=5))"
   ]
  }
 ],
 "metadata": {
  "kernelspec": {
   "display_name": "Python 3 (ipykernel)",
   "language": "python",
   "name": "python3"
  },
  "language_info": {
   "codemirror_mode": {
    "name": "ipython",
    "version": 3
   },
   "file_extension": ".py",
   "mimetype": "text/x-python",
   "name": "python",
   "nbconvert_exporter": "python",
   "pygments_lexer": "ipython3",
   "version": "3.13.1"
  }
 },
 "nbformat": 4,
 "nbformat_minor": 5
}
